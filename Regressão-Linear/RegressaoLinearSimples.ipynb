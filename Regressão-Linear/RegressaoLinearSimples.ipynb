{
 "cells": [
  {
   "cell_type": "code",
   "execution_count": 90,
   "metadata": {},
   "outputs": [
    {
     "name": "stdout",
     "output_type": "stream",
     "text": [
      "   Unnamed: 0  speed  dist\n",
      "0           1      4     2\n",
      "1           2      4    10\n",
      "2           3      7     4\n",
      "3           4      7    22\n",
      "4           5      8    16\n"
     ]
    }
   ],
   "source": [
    "import pandas as pd\n",
    "import numpy as np\n",
    "import matplotlib.pyplot as plt\n",
    "from sklearn.linear_model import LinearRegression\n",
    "from yellowbrick.regressor import ResidualsPlot\n",
    "\n",
    "#Lendo o arquivo .csv e mostrando as 5 primeiras linhas.\n",
    "dataset = pd.read_csv(\"C:/Users/PICHAU/PycharmProjects/Udemy/Arquivos/cars.csv\", \",\")\n",
    "print(dataset.head())"
   ]
  },
  {
   "cell_type": "code",
   "execution_count": 91,
   "metadata": {},
   "outputs": [
    {
     "name": "stdout",
     "output_type": "stream",
     "text": [
      "   speed  dist\n",
      "0      4     2\n",
      "1      4    10\n",
      "2      7     4\n",
      "3      7    22\n",
      "4      8    16\n"
     ]
    }
   ],
   "source": [
    "#Removendo a primeira coluna, pois não será necessária.\n",
    "dataset = dataset.drop(['Unnamed: 0'], 1)\n",
    "print(dataset.head())"
   ]
  },
  {
   "cell_type": "code",
   "execution_count": 92,
   "metadata": {},
   "outputs": [
    {
     "data": {
      "image/png": "[encoded data removed]",
      "text/plain": [
       "<Figure size 432x288 with 1 Axes>"
      ]
     },
     "metadata": {
      "needs_background": "light"
     },
     "output_type": "display_data"
    }
   ],
   "source": [
    "#Boxplot de cada coluna.\n",
    "df = pd.DataFrame(dataset, columns=['speed', 'dist'])\n",
    "boxplot = df.boxplot(column=['speed', 'dist'])"
   ]
  },
  {
   "cell_type": "code",
   "execution_count": 93,
   "metadata": {},
   "outputs": [],
   "source": [
    "#Definindo a variável preditiva e a variável resposta. Como queremos prever a velocidade, y = speed. \n",
    "X = dataset.iloc[:, 1].values\n",
    "y = dataset.iloc[:, 0].values"
   ]
  },
  {
   "cell_type": "code",
   "execution_count": 94,
   "metadata": {},
   "outputs": [
    {
     "data": {
      "text/plain": [
       "array([[1.       , 0.8068949],\n",
       "       [0.8068949, 1.       ]])"
      ]
     },
     "execution_count": 94,
     "metadata": {},
     "output_type": "execute_result"
    }
   ],
   "source": [
    "#Mostrando o coefiente de correlação R de Pearson. O resultado mostra que ela é forte e positiva.\n",
    "correlacao = np.corrcoef(X,y)\n",
    "correlacao"
   ]
  },
  {
   "cell_type": "code",
   "execution_count": 95,
   "metadata": {},
   "outputs": [
    {
     "data": {
      "text/plain": [
       "array([[  2],\n",
       "       [ 10],\n",
       "       [  4],\n",
       "       [ 22],\n",
       "       [ 16],\n",
       "       [ 10],\n",
       "       [ 18],\n",
       "       [ 26],\n",
       "       [ 34],\n",
       "       [ 17],\n",
       "       [ 28],\n",
       "       [ 14],\n",
       "       [ 20],\n",
       "       [ 24],\n",
       "       [ 28],\n",
       "       [ 26],\n",
       "       [ 34],\n",
       "       [ 34],\n",
       "       [ 46],\n",
       "       [ 26],\n",
       "       [ 36],\n",
       "       [ 60],\n",
       "       [ 80],\n",
       "       [ 20],\n",
       "       [ 26],\n",
       "       [ 54],\n",
       "       [ 32],\n",
       "       [ 40],\n",
       "       [ 32],\n",
       "       [ 40],\n",
       "       [ 50],\n",
       "       [ 42],\n",
       "       [ 56],\n",
       "       [ 76],\n",
       "       [ 84],\n",
       "       [ 36],\n",
       "       [ 46],\n",
       "       [ 68],\n",
       "       [ 32],\n",
       "       [ 48],\n",
       "       [ 52],\n",
       "       [ 56],\n",
       "       [ 64],\n",
       "       [ 66],\n",
       "       [ 54],\n",
       "       [ 70],\n",
       "       [ 92],\n",
       "       [ 93],\n",
       "       [120],\n",
       "       [ 85]], dtype=int64)"
      ]
     },
     "execution_count": 95,
     "metadata": {},
     "output_type": "execute_result"
    }
   ],
   "source": [
    "#Transformando a variável em uma coluna.\n",
    "X = X.reshape(-1, 1)\n",
    "X"
   ]
  },
  {
   "cell_type": "code",
   "execution_count": 96,
   "metadata": {},
   "outputs": [],
   "source": [
    "#Colocando os dados no modelo de Regressão.\n",
    "modelo = LinearRegression().fit(X, y)\n",
    "\n",
    "coef0 = modelo.intercept_ #beta0 ----> Altura da reta\n",
    "coef1 = modelo.coef_ #beta1 ----->Angulação da reta"
   ]
  },
  {
   "cell_type": "code",
   "execution_count": 97,
   "metadata": {},
   "outputs": [
    {
     "data": {
      "text/plain": [
       "65.10793807582509"
      ]
     },
     "execution_count": 97,
     "metadata": {},
     "output_type": "execute_result"
    }
   ],
   "source": [
    "#Mostr o R^2, que representa quanto % dos dados aderem a uma reta \n",
    "r_score = modelo.score(X,y)\n",
    "r_score * 100"
   ]
  },
  {
   "cell_type": "code",
   "execution_count": 98,
   "metadata": {},
   "outputs": [
    {
     "data": {
      "image/png": "[encoded data removed]",
      "text/plain": [
       "<Figure size 432x288 with 1 Axes>"
      ]
     },
     "metadata": {
      "needs_background": "light"
     },
     "output_type": "display_data"
    }
   ],
   "source": [
    "#Scatter plot com a reta de regressão.\n",
    "plt.scatter(X, y)\n",
    "plt.plot(X, modelo.predict(X), color = 'red')\n",
    "plt.show()"
   ]
  },
  {
   "cell_type": "code",
   "execution_count": 99,
   "metadata": {},
   "outputs": [
    {
     "data": {
      "text/plain": [
       "array([11.92639228])"
      ]
     },
     "execution_count": 99,
     "metadata": {},
     "output_type": "execute_result"
    }
   ],
   "source": [
    "#O resultado mostra que quando o X for igual a 22, y é aproximadamente 11.93.\n",
    "previsao = modelo.predict([[22]])\n",
    "previsao"
   ]
  },
  {
   "cell_type": "code",
   "execution_count": 100,
   "metadata": {},
   "outputs": [
    {
     "data": {
      "image/png": "[encoded data removed]",
      "text/plain": [
       "<Figure size 432x288 with 2 Axes>"
      ]
     },
     "metadata": {
      "needs_background": "light"
     },
     "output_type": "display_data"
    },
    {
     "data": {
      "text/plain": [
       "<matplotlib.axes._subplots.AxesSubplot at 0x1b1be97ad08>"
      ]
     },
     "execution_count": 100,
     "metadata": {},
     "output_type": "execute_result"
    }
   ],
   "source": [
    "#Mostra os resíduos \n",
    "vizualizador = ResidualsPlot(modelo)\n",
    "vizualizador.fit(X, y)\n",
    "vizualizador.poof()"
   ]
  },
  {
   "cell_type": "code",
   "execution_count": null,
   "metadata": {},
   "outputs": [],
   "source": []
  }
 ],
 "metadata": {
  "kernelspec": {
   "display_name": "Python 3",
   "language": "python",
   "name": "python3"
  },
  "language_info": {
   "codemirror_mode": {
    "name": "ipython",
    "version": 3
   },
   "file_extension": ".py",
   "mimetype": "text/x-python",
   "name": "python",
   "nbconvert_exporter": "python",
   "pygments_lexer": "ipython3",
   "version": "3.7.4"
  }
 },
 "nbformat": 4,
 "nbformat_minor": 2
}
