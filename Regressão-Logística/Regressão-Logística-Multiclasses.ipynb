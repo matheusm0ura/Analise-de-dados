{
 "cells": [
  {
   "cell_type": "markdown",
   "metadata": {},
   "source": [
    "# identificando dígitos em um conjunto de dados de dezenas de milhares de imagens escritas à mão."
   ]
  },
  {
   "cell_type": "code",
   "execution_count": 1,
   "metadata": {},
   "outputs": [],
   "source": [
    "import pandas as pd\n",
    "import numpy as np\n",
    "import seaborn as sn\n",
    "import matplotlib.pyplot as plt \n",
    "from sklearn.datasets import load_digits\n",
    "from sklearn.linear_model import LogisticRegression\n",
    "from sklearn.model_selection import train_test_split\n",
    "from sklearn.metrics import confusion_matrix\n",
    "\n"
   ]
  },
  {
   "cell_type": "code",
   "execution_count": 15,
   "metadata": {},
   "outputs": [
    {
     "data": {
      "text/plain": [
       "['DESCR', 'data', 'feature_names', 'frame', 'images', 'target', 'target_names']"
      ]
     },
     "execution_count": 15,
     "metadata": {},
     "output_type": "execute_result"
    }
   ],
   "source": [
    "#Explorando o que tem dentro do arquivo.\n",
    "digitos = load_digits()\n",
    "dir(digitos)\n"
   ]
  },
  {
   "cell_type": "code",
   "execution_count": null,
   "metadata": {},
   "outputs": [],
   "source": [
    "#Mostrando os 5 primeiros números em preto e branco.\n",
    "plt.gray()\n",
    "for i in range(5):\n",
    "    plt.matshow(digitos.images[i])"
   ]
  },
  {
   "cell_type": "code",
   "execution_count": 4,
   "metadata": {},
   "outputs": [],
   "source": [
    "X_train, X_test, y_train, y_test = train_test_split(digitos.data, digitos.target, test_size = 0.2)"
   ]
  },
  {
   "cell_type": "code",
   "execution_count": 5,
   "metadata": {},
   "outputs": [
    {
     "name": "stderr",
     "output_type": "stream",
     "text": [
      "C:\\Users\\PICHAU\\Anaconda3\\lib\\site-packages\\sklearn\\linear_model\\_logistic.py:764: ConvergenceWarning: lbfgs failed to converge (status=1):\n",
      "STOP: TOTAL NO. of ITERATIONS REACHED LIMIT.\n",
      "\n",
      "Increase the number of iterations (max_iter) or scale the data as shown in:\n",
      "    https://scikit-learn.org/stable/modules/preprocessing.html\n",
      "Please also refer to the documentation for alternative solver options:\n",
      "    https://scikit-learn.org/stable/modules/linear_model.html#logistic-regression\n",
      "  extra_warning_msg=_LOGISTIC_SOLVER_CONVERGENCE_MSG)\n"
     ]
    }
   ],
   "source": [
    "modelo = LogisticRegression().fit(X_train, y_train)"
   ]
  },
  {
   "cell_type": "code",
   "execution_count": 6,
   "metadata": {},
   "outputs": [
    {
     "data": {
      "text/plain": [
       "0.975"
      ]
     },
     "execution_count": 6,
     "metadata": {},
     "output_type": "execute_result"
    }
   ],
   "source": [
    "#Calculando o coeficiente de determinação para saber o score.\n",
    "modelo.score(X_test, y_test)"
   ]
  },
  {
   "cell_type": "code",
   "execution_count": 7,
   "metadata": {},
   "outputs": [
    {
     "data": {
      "text/plain": [
       "array([9, 2, 9, 8, 8, 6, 9, 0, 1, 6, 3, 1, 9, 3, 1, 2, 3, 2, 7, 0, 0, 9,\n",
       "       8, 0, 4, 3, 9, 5, 6, 9, 8, 5, 0, 4, 9, 6, 0, 3, 1, 2, 5, 2, 1, 7,\n",
       "       6, 5, 4, 4, 6, 2, 0, 0, 4, 7, 5, 1, 4, 7, 6, 1, 2, 6, 2, 8, 5, 9,\n",
       "       6, 5, 6, 9, 9, 6, 1, 5, 6, 9, 0, 4, 7, 8, 1, 8, 7, 1, 5, 2, 8, 0,\n",
       "       1, 8, 4, 7, 9, 6, 6, 7, 6, 4, 1, 1, 3, 2, 6, 2, 3, 0, 1, 8, 2, 8,\n",
       "       4, 2, 2, 7, 4, 1, 4, 2, 2, 5, 3, 0, 2, 4, 0, 2, 4, 8, 2, 3, 9, 1,\n",
       "       9, 9, 3, 8, 0, 4, 9, 5, 6, 1, 8, 0, 5, 6, 5, 4, 2, 7, 1, 5, 0, 8,\n",
       "       4, 3, 7, 0, 6, 2, 4, 6, 1, 6, 8, 3, 5, 7, 1, 1, 4, 4, 7, 3, 9, 7,\n",
       "       0, 4, 0, 6, 6, 8, 6, 8, 1, 5, 7, 5, 6, 7, 1, 9, 1, 2, 4, 1, 4, 3,\n",
       "       8, 1, 9, 6, 7, 5, 7, 6, 6, 8, 4, 3, 9, 1, 2, 7, 8, 4, 3, 1, 7, 2,\n",
       "       5, 3, 0, 5, 1, 5, 7, 3, 4, 6, 1, 6, 9, 7, 3, 2, 9, 0, 3, 5, 3, 8,\n",
       "       6, 9, 6, 4, 6, 4, 8, 9, 0, 9, 3, 6, 6, 0, 9, 4, 2, 5, 8, 8, 6, 2,\n",
       "       9, 3, 0, 4, 4, 3, 6, 6, 8, 2, 0, 6, 1, 9, 4, 9, 5, 7, 1, 7, 0, 9,\n",
       "       8, 3, 0, 2, 4, 9, 4, 5, 2, 2, 4, 6, 6, 8, 3, 2, 3, 1, 2, 5, 5, 2,\n",
       "       4, 1, 8, 2, 7, 8, 4, 3, 7, 7, 5, 2, 3, 5, 9, 1, 6, 0, 1, 1, 5, 8,\n",
       "       9, 0, 5, 2, 2, 0, 6, 8, 0, 4, 5, 5, 9, 2, 9, 0, 5, 0, 7, 3, 3, 3,\n",
       "       4, 2, 7, 3, 6, 4, 9, 1])"
      ]
     },
     "execution_count": 7,
     "metadata": {},
     "output_type": "execute_result"
    }
   ],
   "source": [
    "previsao = modelo.predict(X_test)\n",
    "previsao"
   ]
  },
  {
   "cell_type": "code",
   "execution_count": 8,
   "metadata": {},
   "outputs": [
    {
     "data": {
      "text/plain": [
       "array([[33,  0,  0,  0,  0,  0,  0,  0,  0,  0],\n",
       "       [ 0, 37,  0,  0,  0,  0,  0,  0,  0,  0],\n",
       "       [ 0,  0, 40,  0,  0,  0,  0,  0,  0,  0],\n",
       "       [ 0,  0,  0, 33,  0,  1,  0,  0,  0,  0],\n",
       "       [ 0,  0,  0,  0, 39,  0,  0,  0,  0,  0],\n",
       "       [ 0,  0,  0,  0,  0, 29,  0,  0,  0,  0],\n",
       "       [ 0,  0,  0,  0,  0,  1, 44,  0,  1,  0],\n",
       "       [ 0,  0,  0,  0,  0,  1,  0, 29,  0,  0],\n",
       "       [ 0,  1,  0,  0,  1,  2,  0,  0, 31,  1],\n",
       "       [ 0,  0,  0,  0,  0,  0,  0,  0,  0, 36]], dtype=int64)"
      ]
     },
     "execution_count": 8,
     "metadata": {},
     "output_type": "execute_result"
    }
   ],
   "source": [
    "cm = confusion_matrix(y_test, previsao)\n",
    "cm"
   ]
  },
  {
   "cell_type": "code",
   "execution_count": 43,
   "metadata": {
    "scrolled": true
   },
   "outputs": [
    {
     "data": {
      "text/plain": [
       "Text(69.0, 0.5, 'Realidade')"
      ]
     },
     "execution_count": 43,
     "metadata": {},
     "output_type": "execute_result"
    },
    {
     "data": {
      "image/png": "[encoded data removed]",
      "text/plain": [
       "<Figure size 720x504 with 2 Axes>"
      ]
     },
     "metadata": {
      "needs_background": "light"
     },
     "output_type": "display_data"
    }
   ],
   "source": [
    "#Com a matriz confusão é possível ver quantas vezes o modelo errou. Por exemplo: 1 vez o modelo previu que 5 fosse 1.\n",
    "plt.figure(figsize = (10, 7))\n",
    "sn.heatmap(cm, annot=True)\n",
    "plt.xlabel('Previsão')\n",
    "plt.ylabel('Realidade')\n"
   ]
  },
  {
   "cell_type": "code",
   "execution_count": null,
   "metadata": {},
   "outputs": [],
   "source": []
  }
 ],
 "metadata": {
  "kernelspec": {
   "display_name": "Python 3",
   "language": "python",
   "name": "python3"
  },
  "language_info": {
   "codemirror_mode": {
    "name": "ipython",
    "version": 3
   },
   "file_extension": ".py",
   "mimetype": "text/x-python",
   "name": "python",
   "nbconvert_exporter": "python",
   "pygments_lexer": "ipython3",
   "version": "3.7.4"
  }
 },
 "nbformat": 4,
 "nbformat_minor": 2
}
