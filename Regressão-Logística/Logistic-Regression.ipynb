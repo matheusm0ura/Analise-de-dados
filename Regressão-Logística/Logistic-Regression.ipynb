{
 "cells": [
  {
   "cell_type": "markdown",
   "metadata": {},
   "source": [
    "<H2>Prevendo se determinada pessoa irá comprar seguro de vida baseado na idade dela</H2>\n",
    "<H3> Modelo utilizado: Regressão Logística</H3>\n",
    "\n",
    "OBS:\n",
    "<ul>\n",
    "<li>0: Não compra o seguro</li>\n",
    "<li>1: Compra o seguro</li>\n",
    "</ul>"
   ]
  },
  {
   "cell_type": "code",
   "execution_count": null,
   "metadata": {},
   "outputs": [],
   "source": [
    "import pandas as pd\n",
    "import numpy as np\n",
    "from matplotlib import pyplot as plt\n",
    "from sklearn.model_selection import train_test_split\n",
    "from sklearn.linear_model import LogisticRegression\n",
    "import seaborn as sns\n",
    "from sklearn.metrics import accuracy_score\n",
    "%matplotlib inline"
   ]
  },
  {
   "cell_type": "code",
   "execution_count": null,
   "metadata": {},
   "outputs": [],
   "source": [
    "dataset = pd.read_csv(\"C:/Users/PICHAU/PycharmProjects/Udemy/Arquivos/insurance_data.csv\", \",\")\n",
    "dataset.head()"
   ]
  },
  {
   "cell_type": "code",
   "execution_count": null,
   "metadata": {},
   "outputs": [],
   "source": [
    "#Scatter plot dos dados.\n",
    "plt.scatter(dataset['age'], dataset['bought_insurance'], marker = 'o', color = 'green')\n"
   ]
  },
  {
   "cell_type": "code",
   "execution_count": null,
   "metadata": {},
   "outputs": [],
   "source": [
    "#Boxplot das idades.\n",
    "df = pd.DataFrame(dataset, columns=['age'])\n",
    "boxplot = df.boxplot(column= ['age'])"
   ]
  },
  {
   "cell_type": "code",
   "execution_count": null,
   "metadata": {},
   "outputs": [],
   "source": [
    "#Definindo as variáveis.\n",
    "X = dataset['age'].values\n",
    "y = dataset['bought_insurance'].values\n",
    "X = X.reshape(-1, 1)\n"
   ]
  },
  {
   "cell_type": "code",
   "execution_count": 159,
   "metadata": {},
   "outputs": [],
   "source": [
    "#Separando as váriaveis em 'train' e 'test'. Valor de 20% para testar o modelo e uma seed para sempre gerar valores iguais.\n",
    "X_train, X_test, y_train, y_test = train_test_split(X, y, test_size = 0.2, random_state = 10)"
   ]
  },
  {
   "cell_type": "code",
   "execution_count": 160,
   "metadata": {},
   "outputs": [],
   "source": [
    "modelo = LogisticRegression().fit(X_train, y_train)"
   ]
  },
  {
   "cell_type": "code",
   "execution_count": 161,
   "metadata": {},
   "outputs": [
    {
     "name": "stderr",
     "output_type": "stream",
     "text": [
      "C:\\Users\\PICHAU\\Anaconda3\\lib\\site-packages\\statsmodels\\genmod\\families\\family.py:890: RuntimeWarning: invalid value encountered in true_divide\n",
      "  n_endog_mu = self._clean((1. - endog) / (1. - mu))\n"
     ]
    },
    {
     "data": {
      "text/plain": [
       "<matplotlib.axes._subplots.AxesSubplot at 0x1a2a4325248>"
      ]
     },
     "execution_count": 161,
     "metadata": {},
     "output_type": "execute_result"
    },
    {
     "data": {
      "image/png": "[encoded data removed]",
      "text/plain": [
       "<Figure size 432x288 with 1 Axes>"
      ]
     },
     "metadata": {
      "needs_background": "light"
     },
     "output_type": "display_data"
    }
   ],
   "source": [
    "#Fazendo o gráfico da regressão logística com a curva sigmóide.\n",
    "sns.regplot(x = 'age', y = 'bought_insurance', data = dataset, logistic=True, color = 'black')"
   ]
  },
  {
   "cell_type": "markdown",
   "metadata": {},
   "source": [
    ">Formula da curva sigmóide:\n",
    "$ f(x) = 1 / 1 + e^-x $ \n"
   ]
  },
  {
   "cell_type": "code",
   "execution_count": 162,
   "metadata": {},
   "outputs": [
    {
     "data": {
      "text/plain": [
       "array([1, 1, 0, 0, 0, 0], dtype=int64)"
      ]
     },
     "execution_count": 162,
     "metadata": {},
     "output_type": "execute_result"
    }
   ],
   "source": [
    "#Fazendo a previsão.\n",
    "previsao = modelo.predict(X_test)\n",
    "previsao"
   ]
  },
  {
   "cell_type": "code",
   "execution_count": 163,
   "metadata": {},
   "outputs": [
    {
     "data": {
      "text/plain": [
       "1.0"
      ]
     },
     "execution_count": 163,
     "metadata": {},
     "output_type": "execute_result"
    }
   ],
   "source": [
    "#Como temos poucos dados, o score deu 1.\n",
    "score = accuracy_score(previsao, y_test)\n",
    "score"
   ]
  },
  {
   "cell_type": "code",
   "execution_count": 164,
   "metadata": {},
   "outputs": [
    {
     "data": {
      "text/plain": [
       "array([[0.07149888, 0.92850112],\n",
       "       [0.10786116, 0.89213884],\n",
       "       [0.88695589, 0.11304411],\n",
       "       [0.78084024, 0.21915976],\n",
       "       [0.73981614, 0.26018386],\n",
       "       [0.79952814, 0.20047186]])"
      ]
     },
     "execution_count": 164,
     "metadata": {},
     "output_type": "execute_result"
    }
   ],
   "source": [
    "#Mostrando a probabilidade de comprar ou não o seguro.\n",
    "previsao_proba = modelo.predict_proba(X_test)\n",
    "previsao_proba"
   ]
  },
  {
   "cell_type": "code",
   "execution_count": 165,
   "metadata": {},
   "outputs": [
    {
     "data": {
      "text/plain": [
       "array([[60],\n",
       "       [56],\n",
       "       [19],\n",
       "       [26],\n",
       "       [28],\n",
       "       [25]], dtype=int64)"
      ]
     },
     "execution_count": 165,
     "metadata": {},
     "output_type": "execute_result"
    }
   ],
   "source": [
    "X_test"
   ]
  },
  {
   "cell_type": "markdown",
   "metadata": {},
   "source": [
    "> Pode-se perceber que quanto maior a idade, maior a probabilidade de a pessoa comprar o seguro."
   ]
  },
  {
   "cell_type": "code",
   "execution_count": 178,
   "metadata": {},
   "outputs": [],
   "source": [
    "#Função para facilitar as previsões\n",
    "from math import exp\n",
    "\n",
    "def sigmoide(x):\n",
    "    return 1 / (1 + exp(-x))\n",
    "\n",
    "def prever_idade(idade):\n",
    "    b0 = modelo.intercept_[0]\n",
    "    b1 = modelo.coef_[0][0]\n",
    "    x = idade * b1 + b0\n",
    "    y = sigmoide(x)\n",
    "    return y"
   ]
  },
  {
   "cell_type": "code",
   "execution_count": 179,
   "metadata": {},
   "outputs": [
    {
     "data": {
      "text/plain": [
       "0.6562574323974232"
      ]
     },
     "execution_count": 179,
     "metadata": {},
     "output_type": "execute_result"
    }
   ],
   "source": [
    "prever_idade(43)"
   ]
  },
  {
   "cell_type": "code",
   "execution_count": null,
   "metadata": {},
   "outputs": [],
   "source": []
  }
 ],
 "metadata": {
  "kernelspec": {
   "display_name": "Python 3",
   "language": "python",
   "name": "python3"
  },
  "language_info": {
   "codemirror_mode": {
    "name": "ipython",
    "version": 3
   },
   "file_extension": ".py",
   "mimetype": "text/x-python",
   "name": "python",
   "nbconvert_exporter": "python",
   "pygments_lexer": "ipython3",
   "version": "3.7.4"
  }
 },
 "nbformat": 4,
 "nbformat_minor": 2
}
